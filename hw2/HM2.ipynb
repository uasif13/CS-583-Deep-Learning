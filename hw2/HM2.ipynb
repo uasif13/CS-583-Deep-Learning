{
  "nbformat": 4,
  "nbformat_minor": 0,
  "metadata": {
    "kernelspec": {
      "display_name": "Python 3",
      "language": "python",
      "name": "python3"
    },
    "language_info": {
      "codemirror_mode": {
        "name": "ipython",
        "version": 3
      },
      "file_extension": ".py",
      "mimetype": "text/x-python",
      "name": "python",
      "nbconvert_exporter": "python",
      "pygments_lexer": "ipython3",
      "version": "3.7.3"
    },
    "colab": {
      "name": "HM2.ipynb",
      "provenance": [],
      "collapsed_sections": []
    }
  },
  "cells": [
    {
      "cell_type": "markdown",
      "metadata": {
        "id": "WSvQdfJNgBwx"
      },
      "source": [
        "# HM2: Numerical Optimization for Logistic Regression.\n",
        "\n",
        "### Name: Asif Uddin\n"
      ]
    },
    {
      "cell_type": "markdown",
      "metadata": {
        "id": "q73s1wzhgBxA"
      },
      "source": [
        "## 0. You will do the following:\n",
        "\n",
        "1. Read the lecture note: [click here](https://github.com/wangshusen/DeepLearning/blob/master/LectureNotes/Logistic/paper/logistic.pdf)\n",
        "\n",
        "2. Read, complete, and run my code.\n",
        "\n",
        "3. **Implement mini-batch SGD** and evaluate the performance.\n",
        "\n",
        "4. Convert the .IPYNB file to .HTML file.\n",
        "\n",
        "    * The HTML file must contain **the code** and **the output after execution**.\n",
        "    \n",
        "    * Missing **the output after execution** will not be graded.\n",
        "    \n",
        "5. Upload this .HTML file to your Google Drive, Dropbox, or your Github repo.  (If you submit the file to Google Drive or Dropbox, you must make the file \"open-access\". The delay caused by \"deny of access\" may result in late penalty.)\n",
        "\n",
        "6. Submit the link to this .HTML file to Canvas.\n",
        "\n",
        "    * Example: https://github.com/wangshusen/CS583-2020S/blob/master/homework/HM2/HM2.html\n",
        "\n",
        "\n",
        "## Grading criteria:\n",
        "\n",
        "1. When computing the ```gradient``` and ```objective function value``` using a batch of samples, use **matrix-vector multiplication** rather than a FOR LOOP of **vector-vector multiplications**.\n",
        "\n",
        "2. Plot ```objective function value``` against ```epochs```. In the plot, compare GD, SGD, and MB-SGD (with $b=8$ and $b=64$). The plot must look reasonable."
      ]
    },
    {
      "cell_type": "code",
      "metadata": {
        "id": "1znWNAyNgBxC"
      },
      "source": [
        ""
      ],
      "execution_count": null,
      "outputs": []
    },
    {
      "cell_type": "markdown",
      "metadata": {
        "id": "c6SidQgZgBxE"
      },
      "source": [
        "# 1. Data processing\n",
        "\n",
        "- Download the Diabete dataset from https://www.csie.ntu.edu.tw/~cjlin/libsvmtools/datasets/binary/diabetes\n",
        "- Load the data using sklearn.\n",
        "- Preprocess the data."
      ]
    },
    {
      "cell_type": "markdown",
      "metadata": {
        "id": "euk9GqA7gBxF"
      },
      "source": [
        "## 1.1. Load the data"
      ]
    },
    {
      "cell_type": "code",
      "metadata": {
        "colab": {
          "base_uri": "https://localhost:8080/"
        },
        "id": "4-DblvrtgBxI",
        "outputId": "a4b85a22-c37e-4198-9992-ea265c5056c7"
      },
      "source": [
        "from sklearn import datasets\n",
        "import numpy\n",
        "\n",
        "x_sparse, y = datasets.load_svmlight_file('diabetes')\n",
        "x = x_sparse.todense()\n",
        "\n",
        "print('Shape of x: ' + str(x.shape))\n",
        "print('Shape of y: ' + str(y.shape))"
      ],
      "execution_count": 1,
      "outputs": [
        {
          "output_type": "stream",
          "text": [
            "Shape of x: (768, 8)\n",
            "Shape of y: (768,)\n"
          ],
          "name": "stdout"
        }
      ]
    },
    {
      "cell_type": "markdown",
      "metadata": {
        "id": "BuuR8liBgBxN"
      },
      "source": [
        "## 1.2. Partition to training and test sets"
      ]
    },
    {
      "cell_type": "code",
      "metadata": {
        "colab": {
          "base_uri": "https://localhost:8080/"
        },
        "id": "rqTBFMbdgBxO",
        "outputId": "4a7b0e51-8a79-498e-c056-bb60ac540d84"
      },
      "source": [
        "# partition the data to training and test sets\n",
        "n = x.shape[0]\n",
        "n_train = 640\n",
        "n_test = n - n_train\n",
        "\n",
        "rand_indices = numpy.random.permutation(n)\n",
        "train_indices = rand_indices[0:n_train]\n",
        "test_indices = rand_indices[n_train:n]\n",
        "\n",
        "x_train = x[train_indices, :]\n",
        "x_test = x[test_indices, :]\n",
        "y_train = y[train_indices].reshape(n_train, 1)\n",
        "y_test = y[test_indices].reshape(n_test, 1)\n",
        "\n",
        "print('Shape of x_train: ' + str(x_train.shape))\n",
        "print('Shape of x_test: ' + str(x_test.shape))\n",
        "print('Shape of y_train: ' + str(y_train.shape))\n",
        "print('Shape of y_test: ' + str(y_test.shape))"
      ],
      "execution_count": 2,
      "outputs": [
        {
          "output_type": "stream",
          "text": [
            "Shape of x_train: (640, 8)\n",
            "Shape of x_test: (128, 8)\n",
            "Shape of y_train: (640, 1)\n",
            "Shape of y_test: (128, 1)\n"
          ],
          "name": "stdout"
        }
      ]
    },
    {
      "cell_type": "markdown",
      "metadata": {
        "id": "H7E535KsgBxP"
      },
      "source": [
        "## 1.3. Feature scaling"
      ]
    },
    {
      "cell_type": "markdown",
      "metadata": {
        "id": "xB2Kfi8ggBxP"
      },
      "source": [
        "Use the standardization to trainsform both training and test features"
      ]
    },
    {
      "cell_type": "code",
      "metadata": {
        "colab": {
          "base_uri": "https://localhost:8080/"
        },
        "id": "6r1-mKQ_gBxQ",
        "outputId": "24269590-0556-4709-83d8-f8145e33c0c8"
      },
      "source": [
        "# Standardization\n",
        "import numpy\n",
        "\n",
        "# calculate mu and sig using the training set\n",
        "d = x_train.shape[1]\n",
        "mu = numpy.mean(x_train, axis=0).reshape(1, d)\n",
        "sig = numpy.std(x_train, axis=0).reshape(1, d)\n",
        "\n",
        "# transform the training features\n",
        "x_train = (x_train - mu) / (sig + 1E-6)\n",
        "\n",
        "# transform the test features\n",
        "x_test = (x_test - mu) / (sig + 1E-6)\n",
        "\n",
        "print('test mean = ')\n",
        "print(numpy.mean(x_test, axis=0))\n",
        "\n",
        "print('test std = ')\n",
        "print(numpy.std(x_test, axis=0))"
      ],
      "execution_count": 3,
      "outputs": [
        {
          "output_type": "stream",
          "text": [
            "test mean = \n",
            "[[-0.07509353 -0.05383535 -0.07964415 -0.12576793 -0.0023637  -0.21930352\n",
            "  -0.17534603  0.01462847]]\n",
            "test std = \n",
            "[[0.95389492 0.99817591 1.02743454 1.08180514 0.93782178 1.12923568\n",
            "  0.71579526 1.05535532]]\n"
          ],
          "name": "stdout"
        }
      ]
    },
    {
      "cell_type": "markdown",
      "metadata": {
        "id": "6kOUX9SBgBxS"
      },
      "source": [
        "## 1.4. Add a dimension of all ones"
      ]
    },
    {
      "cell_type": "code",
      "metadata": {
        "colab": {
          "base_uri": "https://localhost:8080/"
        },
        "id": "E0NWbCrKgBxS",
        "outputId": "f526fd5d-ef05-4313-d2cc-17b0ce69910b"
      },
      "source": [
        "n_train, d = x_train.shape\n",
        "x_train = numpy.concatenate((x_train, numpy.ones((n_train, 1))), axis=1)\n",
        "\n",
        "n_test, d = x_test.shape\n",
        "x_test = numpy.concatenate((x_test, numpy.ones((n_test, 1))), axis=1)\n",
        "\n",
        "print('Shape of x_train: ' + str(x_train.shape))\n",
        "print('Shape of x_test: ' + str(x_test.shape))"
      ],
      "execution_count": 4,
      "outputs": [
        {
          "output_type": "stream",
          "text": [
            "Shape of x_train: (640, 9)\n",
            "Shape of x_test: (128, 9)\n"
          ],
          "name": "stdout"
        }
      ]
    },
    {
      "cell_type": "markdown",
      "metadata": {
        "id": "Ma3PzKqhgBxT"
      },
      "source": [
        "# 2. Logistic regression model\n",
        "\n",
        "The objective function is $Q (w; X, y) = \\frac{1}{n} \\sum_{i=1}^n \\log \\Big( 1 + \\exp \\big( - y_i x_i^T w \\big) \\Big) + \\frac{\\lambda}{2} \\| w \\|_2^2 $."
      ]
    },
    {
      "cell_type": "code",
      "metadata": {
        "id": "1qm2ygTmgBxT"
      },
      "source": [
        "# Calculate the objective function value\n",
        "# Inputs:\n",
        "#     w: d-by-1 matrix\n",
        "#     x: n-by-d matrix\n",
        "#     y: n-by-1 matrix\n",
        "#     lam: scalar, the regularization parameter\n",
        "# Return:\n",
        "#     objective function value (scalar)\n",
        "def objective(w, x, y, lam):\n",
        "    n, d = x.shape\n",
        "    yx = numpy.multiply(y, x) # n-by-d matrix\n",
        "    yxw = numpy.dot(yx, w) # n-by-1 matrix\n",
        "    vec1 = numpy.exp(-yxw) # n-by-1 matrix\n",
        "    vec2 = numpy.log(1 + vec1) # n-by-1 matrix\n",
        "    loss = numpy.mean(vec2) # scalar\n",
        "    reg = lam / 2 * numpy.sum(w * w) # scalar\n",
        "    return loss + reg\n",
        "    "
      ],
      "execution_count": 5,
      "outputs": []
    },
    {
      "cell_type": "code",
      "metadata": {
        "colab": {
          "base_uri": "https://localhost:8080/"
        },
        "id": "kApArRB1gBxT",
        "outputId": "caf709b8-07e3-4100-b86a-74d3057a6ff7"
      },
      "source": [
        "# initialize w\n",
        "d = x_train.shape[1]\n",
        "w = numpy.zeros((d, 1))\n",
        "\n",
        "# evaluate the objective function value at w\n",
        "lam = 1E-6\n",
        "objval0 = objective(w, x_train, y_train, lam)\n",
        "print('Initial objective function value = ' + str(objval0))"
      ],
      "execution_count": 6,
      "outputs": [
        {
          "output_type": "stream",
          "text": [
            "Initial objective function value = 0.6931471805599453\n"
          ],
          "name": "stdout"
        }
      ]
    },
    {
      "cell_type": "markdown",
      "metadata": {
        "id": "nwsf7_RSgBxU"
      },
      "source": [
        "# 3. Numerical optimization"
      ]
    },
    {
      "cell_type": "markdown",
      "metadata": {
        "id": "qczOFbtWgBxV"
      },
      "source": [
        "## 3.1. Gradient descent\n"
      ]
    },
    {
      "cell_type": "markdown",
      "metadata": {
        "id": "ifM0vHJ5gBxV"
      },
      "source": [
        "The gradient at $w$ is $g = - \\frac{1}{n} \\sum_{i=1}^n \\frac{y_i x_i }{1 + \\exp ( y_i x_i^T w)} + \\lambda w$"
      ]
    },
    {
      "cell_type": "code",
      "metadata": {
        "id": "wtvNN6yEgBxV"
      },
      "source": [
        "# Calculate the gradient\n",
        "# Inputs:\n",
        "#     w: d-by-1 matrix\n",
        "#     x: n-by-d matrix\n",
        "#     y: n-by-1 matrix\n",
        "#     lam: scalar, the regularization parameter\n",
        "# Return:\n",
        "#     g: g: d-by-1 matrix, full gradient\n",
        "def gradient(w, x, y, lam):\n",
        "    n, d = x.shape\n",
        "    yx = numpy.multiply(y, x) # n-by-d matrix\n",
        "    yxw = numpy.dot(yx, w) # n-by-1 matrix\n",
        "    vec1 = numpy.exp(yxw) # n-by-1 matrix\n",
        "    vec2 = numpy.divide(yx, 1+vec1) # n-by-d matrix\n",
        "    vec3 = -numpy.mean(vec2, axis=0).reshape(d, 1) # d-by-1 matrix\n",
        "    g = vec3 + lam * w\n",
        "    return g"
      ],
      "execution_count": 7,
      "outputs": []
    },
    {
      "cell_type": "code",
      "metadata": {
        "id": "0cPzOeG4gBxX"
      },
      "source": [
        "# Gradient descent for solving logistic regression\n",
        "# Inputs:\n",
        "#     x: n-by-d matrix\n",
        "#     y: n-by-1 matrix\n",
        "#     lam: scalar, the regularization parameter\n",
        "#     stepsize: scalar\n",
        "#     max_iter: integer, the maximal iterations\n",
        "#     w: d-by-1 matrix, initialization of w\n",
        "# Return:\n",
        "#     w: d-by-1 matrix, the solution\n",
        "#     objvals: a record of each iteration's objective value\n",
        "def grad_descent(x, y, lam, stepsize, max_iter=100, w=None):\n",
        "    n, d = x.shape\n",
        "    objvals = numpy.zeros(max_iter) # store the objective values\n",
        "    if w is None:\n",
        "        w = numpy.zeros((d, 1)) # zero initialization\n",
        "    \n",
        "    for t in range(max_iter):\n",
        "        objval = objective(w, x, y, lam)\n",
        "        objvals[t] = objval\n",
        "        print('Objective value at t=' + str(t) + ' is ' + str(objval))\n",
        "        g = gradient(w, x, y, lam)\n",
        "        w -= stepsize * g\n",
        "    \n",
        "    return w, objvals"
      ],
      "execution_count": 8,
      "outputs": []
    },
    {
      "cell_type": "markdown",
      "metadata": {
        "id": "Y5zUUJoSgBxZ"
      },
      "source": [
        "Run gradient descent."
      ]
    },
    {
      "cell_type": "code",
      "metadata": {
        "colab": {
          "base_uri": "https://localhost:8080/"
        },
        "id": "qU88Ost7gBxa",
        "outputId": "2ae982e0-2292-4b1c-8352-c907af492668"
      },
      "source": [
        "lam = 1E-6\n",
        "stepsize = 1.0\n",
        "w, objvals_gd = grad_descent(x_train, y_train, lam, stepsize)"
      ],
      "execution_count": 9,
      "outputs": [
        {
          "output_type": "stream",
          "text": [
            "Objective value at t=0 is 0.6931471805599453\n",
            "Objective value at t=1 is 0.5940342109040556\n",
            "Objective value at t=2 is 0.5533837280870416\n",
            "Objective value at t=3 is 0.5313364124552004\n",
            "Objective value at t=4 is 0.5174696311330887\n",
            "Objective value at t=5 is 0.5080224600563548\n",
            "Objective value at t=6 is 0.5012669436868509\n",
            "Objective value at t=7 is 0.49627627471924524\n",
            "Objective value at t=8 is 0.4925006626510634\n",
            "Objective value at t=9 is 0.48959111859346505\n",
            "Objective value at t=10 is 0.48731531345345336\n",
            "Objective value at t=11 is 0.48551302845455674\n",
            "Objective value at t=12 is 0.4840706952061588\n",
            "Objective value at t=13 is 0.48290599414960556\n",
            "Objective value at t=14 is 0.4819581266183596\n",
            "Objective value at t=15 is 0.48118145921757527\n",
            "Objective value at t=16 is 0.48054125609483467\n",
            "Objective value at t=17 is 0.48001074664587756\n",
            "Objective value at t=18 is 0.4795690705379776\n",
            "Objective value at t=19 is 0.479199812288511\n",
            "Objective value at t=20 is 0.4788899398885286\n",
            "Objective value at t=21 is 0.47862902520046624\n",
            "Objective value at t=22 is 0.478408663965669\n",
            "Objective value at t=23 is 0.47822203924830076\n",
            "Objective value at t=24 is 0.47806358930788295\n",
            "Objective value at t=25 is 0.47792875242364263\n",
            "Objective value at t=26 is 0.47781376905980943\n",
            "Objective value at t=27 is 0.4777155272032365\n",
            "Objective value at t=28 is 0.47763144051961753\n",
            "Objective value at t=29 is 0.4775593516815668\n",
            "Objective value at t=30 is 0.4774974551646776\n",
            "Objective value at t=31 is 0.4774442352171295\n",
            "Objective value at t=32 is 0.47739841574124114\n",
            "Objective value at t=33 is 0.4773589195894479\n",
            "Objective value at t=34 is 0.47732483534750636\n",
            "Objective value at t=35 is 0.47729539010706923\n",
            "Objective value at t=36 is 0.47726992705554916\n",
            "Objective value at t=37 is 0.47724788696026704\n",
            "Objective value at t=38 is 0.4772287928156699\n",
            "Objective value at t=39 is 0.4772122370710909\n",
            "Objective value at t=40 is 0.4771978709725167\n",
            "Objective value at t=41 is 0.4771853956428772\n",
            "Objective value at t=42 is 0.47717455459723773\n",
            "Objective value at t=43 is 0.47716512744631034\n",
            "Objective value at t=44 is 0.47715692458719916\n",
            "Objective value at t=45 is 0.4771497827167571\n",
            "Objective value at t=46 is 0.47714356103229727\n",
            "Objective value at t=47 is 0.477138138008141\n",
            "Objective value at t=48 is 0.47713340865576465\n",
            "Objective value at t=49 is 0.4771292821910221\n",
            "Objective value at t=50 is 0.4771256800447688\n",
            "Objective value at t=51 is 0.4771225341637711\n",
            "Objective value at t=52 is 0.47711978555746926\n",
            "Objective value at t=53 is 0.47711738305334545\n",
            "Objective value at t=54 is 0.4771152822295904\n",
            "Objective value at t=55 is 0.47711344449871257\n",
            "Objective value at t=56 is 0.4771118363198398\n",
            "Objective value at t=57 is 0.47711042852090907\n",
            "Objective value at t=58 is 0.4771091957148137\n",
            "Objective value at t=59 is 0.47710811579599094\n",
            "Objective value at t=60 is 0.4771071695059649\n",
            "Objective value at t=61 is 0.4771063400580667\n",
            "Objective value at t=62 is 0.47710561281299735\n",
            "Objective value at t=63 is 0.47710497499812077\n",
            "Objective value at t=64 is 0.4771044154644041\n",
            "Objective value at t=65 is 0.4771039244758032\n",
            "Objective value at t=66 is 0.47710349352663395\n",
            "Objective value at t=67 is 0.47710311518310317\n",
            "Objective value at t=68 is 0.477102782945715\n",
            "Objective value at t=69 is 0.4771024911297305\n",
            "Objective value at t=70 is 0.47710223476124825\n",
            "Objective value at t=71 is 0.4771020094868136\n",
            "Objective value at t=72 is 0.4771018114947539\n",
            "Objective value at t=73 is 0.4771016374466814\n",
            "Objective value at t=74 is 0.47710148441781924\n",
            "Objective value at t=75 is 0.4771013498449897\n",
            "Objective value at t=76 is 0.4771012314812592\n",
            "Objective value at t=77 is 0.47710112735637017\n",
            "Objective value at t=78 is 0.4771010357422065\n",
            "Objective value at t=79 is 0.47710095512263967\n",
            "Objective value at t=80 is 0.47710088416718943\n",
            "Objective value at t=81 is 0.477100821708007\n",
            "Objective value at t=82 is 0.4771007667197544\n",
            "Objective value at t=83 is 0.47710071830200945\n",
            "Objective value at t=84 is 0.47710067566387315\n",
            "Objective value at t=85 is 0.47710063811049985\n",
            "Objective value at t=86 is 0.47710060503130614\n",
            "Objective value at t=87 is 0.47710057588964555\n",
            "Objective value at t=88 is 0.4771005502137644\n",
            "Objective value at t=89 is 0.4771005275888779\n",
            "Objective value at t=90 is 0.47710050765022377\n",
            "Objective value at t=91 is 0.47710049007697475\n",
            "Objective value at t=92 is 0.4771004745868977\n",
            "Objective value at t=93 is 0.4771004609316714\n",
            "Objective value at t=94 is 0.4771004488927766\n",
            "Objective value at t=95 is 0.47710043827788984\n",
            "Objective value at t=96 is 0.4771004289177186\n",
            "Objective value at t=97 is 0.4771004206632209\n",
            "Objective value at t=98 is 0.47710041338316606\n",
            "Objective value at t=99 is 0.47710040696198897\n"
          ],
          "name": "stdout"
        }
      ]
    },
    {
      "cell_type": "markdown",
      "metadata": {
        "id": "8RolkGI5gBxa"
      },
      "source": [
        "## 3.2. Stochastic gradient descent (SGD)\n",
        "\n",
        "Define $Q_i (w) = \\log \\Big( 1 + \\exp \\big( - y_i x_i^T w \\big) \\Big) + \\frac{\\lambda}{2} \\| w \\|_2^2 $.\n",
        "\n",
        "The stochastic gradient at $w$ is $g_i = \\frac{\\partial Q_i }{ \\partial w} = -\\frac{y_i x_i }{1 + \\exp ( y_i x_i^T w)} + \\lambda w$."
      ]
    },
    {
      "cell_type": "code",
      "metadata": {
        "id": "q3tLvmbOgBxd"
      },
      "source": [
        "# Calculate the objective Q_i and the gradient of Q_i\n",
        "# Inputs:\n",
        "#     w: d-by-1 matrix\n",
        "#     xi: 1-by-d matrix\n",
        "#     yi: scalar\n",
        "#     lam: scalar, the regularization parameter\n",
        "# Return:\n",
        "#     obj: scalar, the objective Q_i\n",
        "#     g: d-by-1 matrix, gradient of Q_i\n",
        "def stochastic_objective_gradient(w, xi, yi, lam):\n",
        "    d = xi.shape[0]\n",
        "    yx = yi * xi # 1-by-d matrix\n",
        "    yxw = float(numpy.dot(yx, w)) # scalar\n",
        "    \n",
        "    # calculate objective function Q_i\n",
        "    loss = numpy.log(1 + numpy.exp(-yxw)) # scalar\n",
        "    reg = lam / 2 * numpy.sum(w * w) # scalar\n",
        "    obj = loss + reg\n",
        "    \n",
        "    # calculate stochastic gradient\n",
        "    g_loss = -yx.T / (1 + numpy.exp(yxw)) # d-by-1 matrix\n",
        "    g = g_loss + lam * w # d-by-1 matrix\n",
        "    \n",
        "    return obj, g"
      ],
      "execution_count": 10,
      "outputs": []
    },
    {
      "cell_type": "code",
      "metadata": {
        "id": "_Mv8JtMJgBxe"
      },
      "source": [
        "# SGD for solving logistic regression\n",
        "# Inputs:\n",
        "#     x: n-by-d matrix\n",
        "#     y: n-by-1 matrix\n",
        "#     lam: scalar, the regularization parameter\n",
        "#     stepsize: scalar\n",
        "#     max_epoch: integer, the maximal epochs\n",
        "#     w: d-by-1 matrix, initialization of w\n",
        "# Return:\n",
        "#     w: the solution\n",
        "#     objvals: record of each iteration's objective value\n",
        "def sgd(x, y, lam, stepsize, max_epoch=100, w=None):\n",
        "    n, d = x.shape\n",
        "    objvals = numpy.zeros(max_epoch) # store the objective values\n",
        "    if w is None:\n",
        "        w = numpy.zeros((d, 1)) # zero initialization\n",
        "    \n",
        "    for t in range(max_epoch):\n",
        "        # randomly shuffle the samples\n",
        "        rand_indices = numpy.random.permutation(n)\n",
        "        x_rand = x[rand_indices, :]\n",
        "        y_rand = y[rand_indices, :]\n",
        "        \n",
        "        objval = 0 # accumulate the objective values\n",
        "        for i in range(n):\n",
        "            xi = x_rand[i, :] # 1-by-d matrix\n",
        "            yi = float(y_rand[i, :]) # scalar\n",
        "            obj, g = stochastic_objective_gradient(w, xi, yi, lam)\n",
        "            objval += obj\n",
        "            w -= stepsize * g\n",
        "        \n",
        "        stepsize *= 0.9 # decrease step size\n",
        "        objval /= n\n",
        "        objvals[t] = objval\n",
        "        print('Objective value at epoch t=' + str(t) + ' is ' + str(objval))\n",
        "    \n",
        "    return w, objvals"
      ],
      "execution_count": 11,
      "outputs": []
    },
    {
      "cell_type": "markdown",
      "metadata": {
        "id": "OEqIyOeIgBxe"
      },
      "source": [
        "Run SGD."
      ]
    },
    {
      "cell_type": "code",
      "metadata": {
        "colab": {
          "base_uri": "https://localhost:8080/"
        },
        "id": "nQ2IGpsMgBxf",
        "outputId": "a4e82bca-7adc-4031-d9ca-f4d47a077651"
      },
      "source": [
        "lam = 1E-6\n",
        "stepsize = 0.1\n",
        "w, objvals_sgd = sgd(x_train, y_train, lam, stepsize)"
      ],
      "execution_count": 80,
      "outputs": [
        {
          "output_type": "stream",
          "text": [
            "Objective value at epoch t=0 is 0.5296235573636527\n",
            "Objective value at epoch t=1 is 0.5120377695951126\n",
            "Objective value at epoch t=2 is 0.5257433342158888\n",
            "Objective value at epoch t=3 is 0.5130605939663804\n",
            "Objective value at epoch t=4 is 0.518127686900734\n",
            "Objective value at epoch t=5 is 0.5101313086298429\n",
            "Objective value at epoch t=6 is 0.5001412324772178\n",
            "Objective value at epoch t=7 is 0.5011684656493578\n",
            "Objective value at epoch t=8 is 0.4957109013346481\n",
            "Objective value at epoch t=9 is 0.49648259075138734\n",
            "Objective value at epoch t=10 is 0.49472609115120525\n",
            "Objective value at epoch t=11 is 0.4981647566687218\n",
            "Objective value at epoch t=12 is 0.49244011956421163\n",
            "Objective value at epoch t=13 is 0.49121365950440293\n",
            "Objective value at epoch t=14 is 0.49143569900434275\n",
            "Objective value at epoch t=15 is 0.49068238917115387\n",
            "Objective value at epoch t=16 is 0.48932450372469355\n",
            "Objective value at epoch t=17 is 0.4878975793965\n",
            "Objective value at epoch t=18 is 0.48679617447664364\n",
            "Objective value at epoch t=19 is 0.4836747403765149\n",
            "Objective value at epoch t=20 is 0.48498743972492964\n",
            "Objective value at epoch t=21 is 0.48498507817351805\n",
            "Objective value at epoch t=22 is 0.4834937680580612\n",
            "Objective value at epoch t=23 is 0.4829045342448507\n",
            "Objective value at epoch t=24 is 0.48241274313902904\n",
            "Objective value at epoch t=25 is 0.4820691059809727\n",
            "Objective value at epoch t=26 is 0.4816923427753392\n",
            "Objective value at epoch t=27 is 0.4812969018517669\n",
            "Objective value at epoch t=28 is 0.48024888062022947\n",
            "Objective value at epoch t=29 is 0.4804181996971263\n",
            "Objective value at epoch t=30 is 0.4800864118804692\n",
            "Objective value at epoch t=31 is 0.47969973564930524\n",
            "Objective value at epoch t=32 is 0.4796025427560348\n",
            "Objective value at epoch t=33 is 0.4792769147525188\n",
            "Objective value at epoch t=34 is 0.47902206977299544\n",
            "Objective value at epoch t=35 is 0.4789096831845711\n",
            "Objective value at epoch t=36 is 0.4787629655084739\n",
            "Objective value at epoch t=37 is 0.4785326199847188\n",
            "Objective value at epoch t=38 is 0.4783011209367235\n",
            "Objective value at epoch t=39 is 0.47829718492176215\n",
            "Objective value at epoch t=40 is 0.47818282743965945\n",
            "Objective value at epoch t=41 is 0.4780723559236586\n",
            "Objective value at epoch t=42 is 0.47796959042823445\n",
            "Objective value at epoch t=43 is 0.4778935545374209\n",
            "Objective value at epoch t=44 is 0.47781001707908566\n",
            "Objective value at epoch t=45 is 0.47773829267566537\n",
            "Objective value at epoch t=46 is 0.47767735758735297\n",
            "Objective value at epoch t=47 is 0.4776212724534029\n",
            "Objective value at epoch t=48 is 0.47756944145584795\n",
            "Objective value at epoch t=49 is 0.4775228518090559\n",
            "Objective value at epoch t=50 is 0.4774820083519392\n",
            "Objective value at epoch t=51 is 0.4774439357678443\n",
            "Objective value at epoch t=52 is 0.477409881579241\n",
            "Objective value at epoch t=53 is 0.47737736585451057\n",
            "Objective value at epoch t=54 is 0.477350072805619\n",
            "Objective value at epoch t=55 is 0.4773253471680989\n",
            "Objective value at epoch t=56 is 0.47730276612179257\n",
            "Objective value at epoch t=57 is 0.4772829428436937\n",
            "Objective value at epoch t=58 is 0.47726523076037164\n",
            "Objective value at epoch t=59 is 0.4772483861269651\n",
            "Objective value at epoch t=60 is 0.47723397518406163\n",
            "Objective value at epoch t=61 is 0.4772202695932918\n",
            "Objective value at epoch t=62 is 0.47720855119382455\n",
            "Objective value at epoch t=63 is 0.4771976930599039\n",
            "Objective value at epoch t=64 is 0.47718792559056533\n",
            "Objective value at epoch t=65 is 0.4771792745603502\n",
            "Objective value at epoch t=66 is 0.4771714254710077\n",
            "Objective value at epoch t=67 is 0.47716437268149825\n",
            "Objective value at epoch t=68 is 0.47715794105988074\n",
            "Objective value at epoch t=69 is 0.4771522113031267\n",
            "Objective value at epoch t=70 is 0.4771470257240454\n",
            "Objective value at epoch t=71 is 0.4771423426517032\n",
            "Objective value at epoch t=72 is 0.47713819103495353\n",
            "Objective value at epoch t=73 is 0.47713441653233657\n",
            "Objective value at epoch t=74 is 0.47713103341140917\n",
            "Objective value at epoch t=75 is 0.4771279768656164\n",
            "Objective value at epoch t=76 is 0.4771252238614001\n",
            "Objective value at epoch t=77 is 0.4771227573734823\n",
            "Objective value at epoch t=78 is 0.47712052341738176\n",
            "Objective value at epoch t=79 is 0.4771185120288587\n",
            "Objective value at epoch t=80 is 0.4771167214386388\n",
            "Objective value at epoch t=81 is 0.4771150957447203\n",
            "Objective value at epoch t=82 is 0.4771136337377927\n",
            "Objective value at epoch t=83 is 0.4771123165852284\n",
            "Objective value at epoch t=84 is 0.47711113439820957\n",
            "Objective value at epoch t=85 is 0.477110067309924\n",
            "Objective value at epoch t=86 is 0.47710910829800407\n",
            "Objective value at epoch t=87 is 0.4771082447356929\n",
            "Objective value at epoch t=88 is 0.4771074679692129\n",
            "Objective value at epoch t=89 is 0.47710676871611674\n",
            "Objective value at epoch t=90 is 0.4771061385668502\n",
            "Objective value at epoch t=91 is 0.4771055718599281\n",
            "Objective value at epoch t=92 is 0.47710506249731727\n",
            "Objective value at epoch t=93 is 0.47710460357014856\n",
            "Objective value at epoch t=94 is 0.47710419044698016\n",
            "Objective value at epoch t=95 is 0.47710381854864004\n",
            "Objective value at epoch t=96 is 0.4771034840381033\n",
            "Objective value at epoch t=97 is 0.4771031828400199\n",
            "Objective value at epoch t=98 is 0.4771029119108336\n",
            "Objective value at epoch t=99 is 0.477102667934773\n"
          ],
          "name": "stdout"
        }
      ]
    },
    {
      "cell_type": "markdown",
      "metadata": {
        "id": "Me9OgNc-gBxf"
      },
      "source": [
        "# 4. Compare GD with SGD\n",
        "\n",
        "Plot objective function values against epochs."
      ]
    },
    {
      "cell_type": "code",
      "metadata": {
        "colab": {
          "base_uri": "https://localhost:8080/",
          "height": 297
        },
        "id": "pzOOdLmlgBxg",
        "outputId": "31b93dc1-7a34-426c-efc6-e6357a7e9ff1"
      },
      "source": [
        "import matplotlib.pyplot as plt\n",
        "%matplotlib inline\n",
        "\n",
        "fig = plt.figure(figsize=(6, 4))\n",
        "\n",
        "epochs_gd = range(len(objvals_gd))\n",
        "epochs_sgd = range(len(objvals_sgd))\n",
        "\n",
        "line0, = plt.plot(epochs_gd, objvals_gd, '--b', LineWidth=4)\n",
        "line1, = plt.plot(epochs_sgd, objvals_sgd, '-r', LineWidth=2)\n",
        "plt.xlabel('Epochs', FontSize=20)\n",
        "plt.ylabel('Objective Value', FontSize=20)\n",
        "plt.xticks(FontSize=16)\n",
        "plt.yticks(FontSize=16)\n",
        "plt.legend([line0, line1], ['GD', 'SGD'], fontsize=20)\n",
        "plt.tight_layout()\n",
        "plt.show()\n",
        "fig.savefig('compare_gd_sgd.pdf', format='pdf', dpi=1200)"
      ],
      "execution_count": 13,
      "outputs": [
        {
          "output_type": "display_data",
          "data": {
            "image/png": "[encoded data removed]",
            "text/plain": [
              "<Figure size 432x288 with 1 Axes>"
            ]
          },
          "metadata": {
            "tags": [],
            "needs_background": "light"
          }
        }
      ]
    },
    {
      "cell_type": "markdown",
      "metadata": {
        "id": "0iY39kIFgBxg"
      },
      "source": [
        "# 5. Prediction"
      ]
    },
    {
      "cell_type": "code",
      "metadata": {
        "id": "VE7vCucmgBxh"
      },
      "source": [
        "# Predict class label\n",
        "# Inputs:\n",
        "#     w: d-by-1 matrix\n",
        "#     X: m-by-d matrix\n",
        "# Return:\n",
        "#     f: m-by-1 matrix, the predictions\n",
        "def predict(w, X):\n",
        "    xw = numpy.dot(X, w)\n",
        "    f = numpy.sign(xw)\n",
        "    return f"
      ],
      "execution_count": 14,
      "outputs": []
    },
    {
      "cell_type": "code",
      "metadata": {
        "colab": {
          "base_uri": "https://localhost:8080/"
        },
        "id": "BQCEpcmAgBxh",
        "outputId": "816b980b-0aca-4a4f-b2a6-9934158f05ac"
      },
      "source": [
        "# evaluate training error\n",
        "f_train = predict(w, x_train)\n",
        "diff = numpy.abs(f_train - y_train) / 2\n",
        "error_train = numpy.mean(diff)\n",
        "print('Training classification error is ' + str(error_train))"
      ],
      "execution_count": 15,
      "outputs": [
        {
          "output_type": "stream",
          "text": [
            "Training classification error is 0.2203125\n"
          ],
          "name": "stdout"
        }
      ]
    },
    {
      "cell_type": "code",
      "metadata": {
        "colab": {
          "base_uri": "https://localhost:8080/"
        },
        "id": "QqtPB5sogBxi",
        "outputId": "e01a06ce-2f75-4e71-c3ff-b47e9f6ce750"
      },
      "source": [
        "# evaluate test error\n",
        "f_test = predict(w, x_test)\n",
        "diff = numpy.abs(f_test - y_test) / 2\n",
        "error_test = numpy.mean(diff)\n",
        "print('Test classification error is ' + str(error_test))"
      ],
      "execution_count": 16,
      "outputs": [
        {
          "output_type": "stream",
          "text": [
            "Test classification error is 0.234375\n"
          ],
          "name": "stdout"
        }
      ]
    },
    {
      "cell_type": "markdown",
      "metadata": {
        "id": "eLj2fx5igBxi"
      },
      "source": [
        "# 6. Mini-batch SGD (fill the code)\n",
        "\n"
      ]
    },
    {
      "cell_type": "markdown",
      "metadata": {
        "id": "0Z6D4MDggBxj"
      },
      "source": [
        "## 6.1. Compute the objective $Q_I$ and its gradient using a batch of samples\n",
        "\n",
        "Define $Q_I (w) = \\frac{1}{b} \\sum_{i \\in I} \\log \\Big( 1 + \\exp \\big( - y_i x_i^T w \\big) \\Big) + \\frac{\\lambda}{2} \\| w \\|_2^2 $, where $I$ is a set containing $b$ indices randomly drawn from $\\{ 1, \\cdots , n \\}$ without replacement.\n",
        "\n",
        "The stochastic gradient at $w$ is $g_I = \\frac{\\partial Q_I }{ \\partial w} = \\frac{1}{b} \\sum_{i \\in I} \\frac{- y_i x_i }{1 + \\exp ( y_i x_i^T w)} + \\lambda w$."
      ]
    },
    {
      "cell_type": "code",
      "metadata": {
        "id": "1UNxQVUIgBxj"
      },
      "source": [
        "# import time\n",
        "# Calculate the objective Q_I and the gradient of Q_I\n",
        "# Inputs:\n",
        "#     w: d-by-1 matrix\n",
        "#     xi: b-by-d matrix\n",
        "#     yi: b-by-1 matrix\n",
        "#     lam: scalar, the regularization parameter\n",
        "#     b: integer, the batch size\n",
        "# Return:\n",
        "#     obj: scalar, the objective Q_i\n",
        "#     g: d-by-1 matrix, gradient of Q_i\n",
        "def mb_stochastic_objective_gradient(w, xi, yi, lam, b):\n",
        "    # print(f\"w: {w} \\nxi: {xi}\\nyi: {yi}\\nlam: {lam}\\nb: {b}\")\n",
        "    # Fill the function\n",
        "    # Follow the implementation of stochastic_objective_gradient\n",
        "    # Use matrix-vector multiplication; do not use FOR LOOP of vector-vector multiplications\n",
        "    b, d = xi.shape\n",
        "    yx = numpy.multiply(yi,xi) #returns b x d matrix\n",
        "    yxw = numpy.dot(yx,w) #returns b x 1 matrix\n",
        "    vec1 = numpy.exp(-yxw) #returns b x 1 matrix\n",
        "    vec2 = numpy.log(1+vec1) #returns b x 1 matrix\n",
        "    loss = numpy.mean(vec2) #scalar\n",
        "    reg = lam / 2 * numpy.sum(w*w) #scalar\n",
        "    obj = loss+reg #scalar\n",
        "    vec3 = -numpy.divide(yx,1+numpy.exp(yxw)) #returns b x d matrix\n",
        "    vec4 = numpy.mean(vec3,axis = 0).reshape(d,1) #returns d x 1 matrix\n",
        "    g = vec4 + lam * w #returns d x 1 matrix\n",
        "    # print(f\"1+vec1: {1+vec1} vec2: {vec2}\\n vec3:{vec3}\")\n",
        "    # time.sleep(20)\n",
        "    return obj, g"
      ],
      "execution_count": 41,
      "outputs": []
    },
    {
      "cell_type": "markdown",
      "metadata": {
        "id": "Sd7Uf_JpgBxj"
      },
      "source": [
        "## 6.2. Implement mini-batch SGD\n",
        "\n",
        "Hints:\n",
        "1. In every epoch, randomly permute the $n$ samples (just like SGD).\n",
        "2. Each epoch has $\\frac{n}{b}$ iterations. In every iteration, use $b$ samples, and compute the gradient and objective using the ``mb_stochastic_objective_gradient`` function. In the next iteration, use the next $b$ samples, and so on.\n"
      ]
    },
    {
      "cell_type": "code",
      "metadata": {
        "id": "O5RiH2tEgBxj"
      },
      "source": [
        "# Mini-Batch SGD for solving logistic regression\n",
        "# Inputs:\n",
        "#     x: n-by-d matrix\n",
        "#     y: n-by-1 matrix\n",
        "#     lam: scalar, the regularization parameter\n",
        "#     b: integer, the batch size\n",
        "#     stepsize: scalar\n",
        "#     max_epoch: integer, the maximal epochs\n",
        "#     w: d-by-1 matrix, initialization of w\n",
        "# Return:\n",
        "#     w: the solution\n",
        "#     objvals: record of each iteration's objective value\n",
        "def mb_sgd(x, y, lam, b, stepsize, max_epoch=100, w=None):\n",
        "    # Fill the function\n",
        "    # Follow the implementation of sgd\n",
        "    # Record one objective value per epoch (not per iteration!)\n",
        "    n, d = x.shape\n",
        "    objvals = numpy.zeros((max_epoch,n//b))\n",
        "    # print(x.shape)\n",
        "    # time.sleep(10)\n",
        "    if w is None:\n",
        "      w = numpy.zeros((d,1))\n",
        "    for t in range(max_epoch):\n",
        "      rand_indices = numpy.random.permutation(n)\n",
        "      x_rand = x[rand_indices,:] #Shuffles the n x d matrix\n",
        "      y_rand = y[rand_indices,:] #Shuffles the n x 1 matrix\n",
        "      objval = 0\n",
        "      # print(f\"{x_rand.shape} {y_rand.shape}\")\n",
        "      for i in range(0,n,b): \n",
        "      #Since each iteration uses b samples, I need n/b times\n",
        "        xi = x_rand[i:i+b,:]\n",
        "        yi = y_rand[i:i+b,:]\n",
        "        # print(f\"{xi.shape} {yi.shape}\")\n",
        "        obj, g = mb_stochastic_objective_gradient(w, xi, yi, lam, b)\n",
        "        objvals[t][i//b] = obj\n",
        "        w -= stepsize * g\n",
        "      print(f\"Objective value at epoch t={t} is {numpy.mean(objvals[t,:])}\")\n",
        "      # time.sleep(10)\n",
        "    return w, objvals"
      ],
      "execution_count": 75,
      "outputs": []
    },
    {
      "cell_type": "markdown",
      "metadata": {
        "id": "FrpaYVW9gBxj"
      },
      "source": [
        "## 6.3. Run MB-SGD"
      ]
    },
    {
      "cell_type": "code",
      "metadata": {
        "colab": {
          "base_uri": "https://localhost:8080/"
        },
        "id": "XJMLPWkZgBxk",
        "outputId": "6a35a947-0f4b-47d2-a196-18b38fb6171f"
      },
      "source": [
        "# MB-SGD with batch size b=8\n",
        "lam = 1E-6 # do not change\n",
        "b = 8 # do not change\n",
        "stepsize = 0.02 # you must tune this parameter\n",
        "\n",
        "w, objvals_mbsgd8 = mb_sgd(x_train, y_train, lam, b, stepsize)"
      ],
      "execution_count": 149,
      "outputs": [
        {
          "output_type": "stream",
          "text": [
            "Objective value at epoch t=0 is 0.6271378811321711\n",
            "Objective value at epoch t=1 is 0.5562655762208171\n",
            "Objective value at epoch t=2 is 0.5261424838737869\n",
            "Objective value at epoch t=3 is 0.5100356447799479\n",
            "Objective value at epoch t=4 is 0.5005122142337166\n",
            "Objective value at epoch t=5 is 0.4940430816299012\n",
            "Objective value at epoch t=6 is 0.48999660229898934\n",
            "Objective value at epoch t=7 is 0.48711678312491113\n",
            "Objective value at epoch t=8 is 0.4851645350372305\n",
            "Objective value at epoch t=9 is 0.4836557048721254\n",
            "Objective value at epoch t=10 is 0.4825123226306367\n",
            "Objective value at epoch t=11 is 0.481776826999769\n",
            "Objective value at epoch t=12 is 0.48106634457646197\n",
            "Objective value at epoch t=13 is 0.48043936107930574\n",
            "Objective value at epoch t=14 is 0.48023029185620797\n",
            "Objective value at epoch t=15 is 0.4798789866745527\n",
            "Objective value at epoch t=16 is 0.4796618829453796\n",
            "Objective value at epoch t=17 is 0.47958401287398955\n",
            "Objective value at epoch t=18 is 0.47933532187368294\n",
            "Objective value at epoch t=19 is 0.47941060002159175\n",
            "Objective value at epoch t=20 is 0.47919118479495176\n",
            "Objective value at epoch t=21 is 0.47893796595405613\n",
            "Objective value at epoch t=22 is 0.47902389834959813\n",
            "Objective value at epoch t=23 is 0.4789989756977565\n",
            "Objective value at epoch t=24 is 0.47895084755727807\n",
            "Objective value at epoch t=25 is 0.47901709459293523\n",
            "Objective value at epoch t=26 is 0.47916562796146217\n",
            "Objective value at epoch t=27 is 0.4787455941782265\n",
            "Objective value at epoch t=28 is 0.47891986586604174\n",
            "Objective value at epoch t=29 is 0.47892662252167806\n",
            "Objective value at epoch t=30 is 0.4787780749716658\n",
            "Objective value at epoch t=31 is 0.4789675396180003\n",
            "Objective value at epoch t=32 is 0.4790476215940035\n",
            "Objective value at epoch t=33 is 0.4788142320364163\n",
            "Objective value at epoch t=34 is 0.4789561849241647\n",
            "Objective value at epoch t=35 is 0.4788758200978311\n",
            "Objective value at epoch t=36 is 0.47895157766262797\n",
            "Objective value at epoch t=37 is 0.4789416517050478\n",
            "Objective value at epoch t=38 is 0.47883791076302257\n",
            "Objective value at epoch t=39 is 0.4788909157450716\n",
            "Objective value at epoch t=40 is 0.4789227498532256\n",
            "Objective value at epoch t=41 is 0.4788691061621238\n",
            "Objective value at epoch t=42 is 0.47898498504972703\n",
            "Objective value at epoch t=43 is 0.4788442729638861\n",
            "Objective value at epoch t=44 is 0.47886697932670363\n",
            "Objective value at epoch t=45 is 0.478725404720438\n",
            "Objective value at epoch t=46 is 0.4789606246018582\n",
            "Objective value at epoch t=47 is 0.47879917390931565\n",
            "Objective value at epoch t=48 is 0.4788555812343863\n",
            "Objective value at epoch t=49 is 0.4788981325103164\n",
            "Objective value at epoch t=50 is 0.4788186451267986\n",
            "Objective value at epoch t=51 is 0.4791040731161572\n",
            "Objective value at epoch t=52 is 0.47890573077763304\n",
            "Objective value at epoch t=53 is 0.4789916863728301\n",
            "Objective value at epoch t=54 is 0.47895515497366786\n",
            "Objective value at epoch t=55 is 0.4788766796415138\n",
            "Objective value at epoch t=56 is 0.4788855185960819\n",
            "Objective value at epoch t=57 is 0.47870967974615797\n",
            "Objective value at epoch t=58 is 0.4787921026269153\n",
            "Objective value at epoch t=59 is 0.4787194601764142\n",
            "Objective value at epoch t=60 is 0.4787043236488004\n",
            "Objective value at epoch t=61 is 0.47902162577408874\n",
            "Objective value at epoch t=62 is 0.47891100237455697\n",
            "Objective value at epoch t=63 is 0.4788347152785075\n",
            "Objective value at epoch t=64 is 0.47885783466922566\n",
            "Objective value at epoch t=65 is 0.47890857973962886\n",
            "Objective value at epoch t=66 is 0.47893658406772\n",
            "Objective value at epoch t=67 is 0.4787076243982641\n",
            "Objective value at epoch t=68 is 0.4789057918782314\n",
            "Objective value at epoch t=69 is 0.4789365113398764\n",
            "Objective value at epoch t=70 is 0.4788076492583963\n",
            "Objective value at epoch t=71 is 0.47891005496051486\n",
            "Objective value at epoch t=72 is 0.47874927583180915\n",
            "Objective value at epoch t=73 is 0.4788454886006148\n",
            "Objective value at epoch t=74 is 0.47892035611212014\n",
            "Objective value at epoch t=75 is 0.47886497863260064\n",
            "Objective value at epoch t=76 is 0.47908373746532174\n",
            "Objective value at epoch t=77 is 0.4788629102562492\n",
            "Objective value at epoch t=78 is 0.47887283613528925\n",
            "Objective value at epoch t=79 is 0.47873985641934896\n",
            "Objective value at epoch t=80 is 0.47878199327749443\n",
            "Objective value at epoch t=81 is 0.4787634498145792\n",
            "Objective value at epoch t=82 is 0.47897480801948317\n",
            "Objective value at epoch t=83 is 0.4788510026011771\n",
            "Objective value at epoch t=84 is 0.47888324516406716\n",
            "Objective value at epoch t=85 is 0.4789502944796535\n",
            "Objective value at epoch t=86 is 0.4789603802780887\n",
            "Objective value at epoch t=87 is 0.47892389907978006\n",
            "Objective value at epoch t=88 is 0.47871599073816407\n",
            "Objective value at epoch t=89 is 0.4788214384900046\n",
            "Objective value at epoch t=90 is 0.478773418246596\n",
            "Objective value at epoch t=91 is 0.4787772342811791\n",
            "Objective value at epoch t=92 is 0.47882889528023326\n",
            "Objective value at epoch t=93 is 0.47882576013140915\n",
            "Objective value at epoch t=94 is 0.47886449639278605\n",
            "Objective value at epoch t=95 is 0.47868058013137516\n",
            "Objective value at epoch t=96 is 0.4787562755446739\n",
            "Objective value at epoch t=97 is 0.4788318691793448\n",
            "Objective value at epoch t=98 is 0.47901236556470883\n",
            "Objective value at epoch t=99 is 0.4787831307239805\n"
          ],
          "name": "stdout"
        }
      ]
    },
    {
      "cell_type": "code",
      "metadata": {
        "colab": {
          "base_uri": "https://localhost:8080/"
        },
        "id": "YSXnmsy-gBxl",
        "outputId": "c2d18c6f-20a5-4b62-9ec2-e702c8da0ca4"
      },
      "source": [
        "# MB-SGD with batch size b=64\n",
        "lam = 1E-6 # do not change\n",
        "b = 64 # do not change\n",
        "stepsize = 0.15 # you must tune this parameter\n",
        "\n",
        "w, objvals_mbsgd64 = mb_sgd(x_train, y_train, lam, b, stepsize)"
      ],
      "execution_count": 139,
      "outputs": [
        {
          "output_type": "stream",
          "text": [
            "Objective value at epoch t=0 is 0.6348615293377935\n",
            "Objective value at epoch t=1 is 0.5608977929663236\n",
            "Objective value at epoch t=2 is 0.5302772087648174\n",
            "Objective value at epoch t=3 is 0.5127875245615463\n",
            "Objective value at epoch t=4 is 0.5026794841708764\n",
            "Objective value at epoch t=5 is 0.4955747724386437\n",
            "Objective value at epoch t=6 is 0.4918149852543606\n",
            "Objective value at epoch t=7 is 0.48800448404106256\n",
            "Objective value at epoch t=8 is 0.4859122475626377\n",
            "Objective value at epoch t=9 is 0.4839824291833198\n",
            "Objective value at epoch t=10 is 0.48263158402961304\n",
            "Objective value at epoch t=11 is 0.4821227918039318\n",
            "Objective value at epoch t=12 is 0.4810474284526879\n",
            "Objective value at epoch t=13 is 0.4806021052213193\n",
            "Objective value at epoch t=14 is 0.48005263471032916\n",
            "Objective value at epoch t=15 is 0.48046075244802006\n",
            "Objective value at epoch t=16 is 0.4795906751471345\n",
            "Objective value at epoch t=17 is 0.4791178981307499\n",
            "Objective value at epoch t=18 is 0.47969087358683044\n",
            "Objective value at epoch t=19 is 0.4793426090871269\n",
            "Objective value at epoch t=20 is 0.47880492337229086\n",
            "Objective value at epoch t=21 is 0.47895704441262216\n",
            "Objective value at epoch t=22 is 0.47864309026466234\n",
            "Objective value at epoch t=23 is 0.4791806794508447\n",
            "Objective value at epoch t=24 is 0.47915710374436565\n",
            "Objective value at epoch t=25 is 0.47923008927069216\n",
            "Objective value at epoch t=26 is 0.47896100446324386\n",
            "Objective value at epoch t=27 is 0.4788391196237242\n",
            "Objective value at epoch t=28 is 0.4789963343000406\n",
            "Objective value at epoch t=29 is 0.47851965863833357\n",
            "Objective value at epoch t=30 is 0.4786480300708621\n",
            "Objective value at epoch t=31 is 0.479282807344667\n",
            "Objective value at epoch t=32 is 0.4787653003603186\n",
            "Objective value at epoch t=33 is 0.4784857238137465\n",
            "Objective value at epoch t=34 is 0.47869201360252933\n",
            "Objective value at epoch t=35 is 0.47845142373380867\n",
            "Objective value at epoch t=36 is 0.4784760477884011\n",
            "Objective value at epoch t=37 is 0.4784014663826161\n",
            "Objective value at epoch t=38 is 0.4787177514333728\n",
            "Objective value at epoch t=39 is 0.4785179622546239\n",
            "Objective value at epoch t=40 is 0.47854377485980526\n",
            "Objective value at epoch t=41 is 0.47853300397290655\n",
            "Objective value at epoch t=42 is 0.47892717212602004\n",
            "Objective value at epoch t=43 is 0.47823000155492024\n",
            "Objective value at epoch t=44 is 0.4785555396543524\n",
            "Objective value at epoch t=45 is 0.47847045199033855\n",
            "Objective value at epoch t=46 is 0.4784685092325975\n",
            "Objective value at epoch t=47 is 0.4786221799969253\n",
            "Objective value at epoch t=48 is 0.47860668791787886\n",
            "Objective value at epoch t=49 is 0.4791605210339793\n",
            "Objective value at epoch t=50 is 0.47841135651850475\n",
            "Objective value at epoch t=51 is 0.4790464528356602\n",
            "Objective value at epoch t=52 is 0.4788269272510557\n",
            "Objective value at epoch t=53 is 0.47908246678189725\n",
            "Objective value at epoch t=54 is 0.4793130421594961\n",
            "Objective value at epoch t=55 is 0.4786892520885592\n",
            "Objective value at epoch t=56 is 0.47878744784687244\n",
            "Objective value at epoch t=57 is 0.47843173270324896\n",
            "Objective value at epoch t=58 is 0.47903192681211115\n",
            "Objective value at epoch t=59 is 0.4787836595793243\n",
            "Objective value at epoch t=60 is 0.4786486176337156\n",
            "Objective value at epoch t=61 is 0.47851856302431106\n",
            "Objective value at epoch t=62 is 0.47834732427607757\n",
            "Objective value at epoch t=63 is 0.47862651100162995\n",
            "Objective value at epoch t=64 is 0.4785729855111723\n",
            "Objective value at epoch t=65 is 0.47884850728642503\n",
            "Objective value at epoch t=66 is 0.4787958065769134\n",
            "Objective value at epoch t=67 is 0.47855678455297934\n",
            "Objective value at epoch t=68 is 0.4784167435240955\n",
            "Objective value at epoch t=69 is 0.4785907423826871\n",
            "Objective value at epoch t=70 is 0.4783209427754339\n",
            "Objective value at epoch t=71 is 0.47843497091635256\n",
            "Objective value at epoch t=72 is 0.4789672893393705\n",
            "Objective value at epoch t=73 is 0.47883680141623275\n",
            "Objective value at epoch t=74 is 0.4782900111586155\n",
            "Objective value at epoch t=75 is 0.4787777005036557\n",
            "Objective value at epoch t=76 is 0.47847357001932195\n",
            "Objective value at epoch t=77 is 0.47902685600503886\n",
            "Objective value at epoch t=78 is 0.47863498568769336\n",
            "Objective value at epoch t=79 is 0.478605758182188\n",
            "Objective value at epoch t=80 is 0.4784726836384922\n",
            "Objective value at epoch t=81 is 0.4786031518037177\n",
            "Objective value at epoch t=82 is 0.4790530093476203\n",
            "Objective value at epoch t=83 is 0.47848569228059173\n",
            "Objective value at epoch t=84 is 0.4785831226792622\n",
            "Objective value at epoch t=85 is 0.47868667183537417\n",
            "Objective value at epoch t=86 is 0.4783414432569277\n",
            "Objective value at epoch t=87 is 0.47857930705322554\n",
            "Objective value at epoch t=88 is 0.4789909676858766\n",
            "Objective value at epoch t=89 is 0.4787937521548834\n",
            "Objective value at epoch t=90 is 0.4788273632808055\n",
            "Objective value at epoch t=91 is 0.4783537849847897\n",
            "Objective value at epoch t=92 is 0.4793455507911383\n",
            "Objective value at epoch t=93 is 0.47872491430859804\n",
            "Objective value at epoch t=94 is 0.4789028638568419\n",
            "Objective value at epoch t=95 is 0.4784223102992156\n",
            "Objective value at epoch t=96 is 0.47886033135318745\n",
            "Objective value at epoch t=97 is 0.4786669280052262\n",
            "Objective value at epoch t=98 is 0.47873112901412657\n",
            "Objective value at epoch t=99 is 0.4784549100421057\n"
          ],
          "name": "stdout"
        }
      ]
    },
    {
      "cell_type": "markdown",
      "metadata": {
        "id": "pEHUNrpagBxl"
      },
      "source": [
        "# 7. Plot and compare GD, SGD, and MB-SGD"
      ]
    },
    {
      "cell_type": "markdown",
      "metadata": {
        "id": "c1FxbR0TgBxl"
      },
      "source": [
        "You are required to compare the following algorithms:\n",
        "\n",
        "- Gradient descent (GD)\n",
        "\n",
        "- SGD\n",
        "\n",
        "- MB-SGD with b=8\n",
        "\n",
        "- MB-SGD with b=64\n",
        "\n",
        "Follow the code in Section 4 to plot ```objective function value``` against ```epochs```. There should be four curves in the plot; each curve corresponds to one algorithm."
      ]
    },
    {
      "cell_type": "markdown",
      "metadata": {
        "id": "A6UyPaZlgBxl"
      },
      "source": [
        "Hint: Logistic regression with $\\ell_2$-norm regularization is a strongly convex optimization problem. All the algorithms will converge to the same solution. **In the end, the ``objective function value`` of the 4 algorithms will be the same. If not the same, your implementation must be wrong. Do NOT submit wrong code and wrong result!**"
      ]
    },
    {
      "cell_type": "code",
      "metadata": {
        "colab": {
          "base_uri": "https://localhost:8080/",
          "height": 585
        },
        "id": "TT25e8B-gBxl",
        "outputId": "6163e16c-9d4f-4e17-80f6-71b230d30d62"
      },
      "source": [
        "# plot the 4 curves:\n",
        "import matplotlib.pyplot as plt\n",
        "%matplotlib inline\n",
        "\n",
        "fig = plt.figure(figsize=(12, 8))\n",
        "\n",
        "epochs_gd = range(len(objvals_gd))\n",
        "epochs_sgd = range(len(objvals_sgd))\n",
        "epochs_mbsgd8 = range(objvals_mbsgd8.shape[0])\n",
        "epochs_mbsgd64 = range(objvals_mbsgd64.shape[0])\n",
        "\n",
        "line0, = plt.plot(epochs_gd, objvals_gd, '--b', LineWidth=2)\n",
        "line1, = plt.plot(epochs_sgd, objvals_sgd, '-r', LineWidth=2)\n",
        "line2, = plt.plot(epochs_mbsgd8, numpy.mean(objvals_mbsgd8,axis=1), '-.g', LineWidth=2)\n",
        "line3, = plt.plot(epochs_mbsgd64, numpy.mean(objvals_mbsgd64,axis=1), ':y', LineWidth=2)\n",
        "plt.xlabel('Epochs', FontSize=20)\n",
        "plt.ylabel('Objective Value', FontSize=20)\n",
        "plt.xticks(FontSize=16)\n",
        "plt.yticks(FontSize=16)\n",
        "plt.legend([line0, line1, line2, line3], ['GD', 'SGD', \"MBSGD8\", \"MBSGD64\"], fontsize=10)\n",
        "plt.tight_layout()\n",
        "plt.show()\n",
        "fig.savefig('compare_gd_sgd.pdf', format='pdf', dpi=1200)"
      ],
      "execution_count": 150,
      "outputs": [
        {
          "output_type": "display_data",
          "data": {
            "image/png": "[encoded data removed]",
            "text/plain": [
              "<Figure size 864x576 with 1 Axes>"
            ]
          },
          "metadata": {
            "tags": [],
            "needs_background": "light"
          }
        }
      ]
    },
    {
      "cell_type": "markdown",
      "metadata": {
        "id": "Dptqof4mgBxm"
      },
      "source": [
        ""
      ]
    }
  ]
}