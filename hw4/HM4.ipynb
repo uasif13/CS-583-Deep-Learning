{
  "nbformat": 4,
  "nbformat_minor": 0,
  "metadata": {
    "kernelspec": {
      "display_name": "Python 3",
      "language": "python",
      "name": "python3"
    },
    "language_info": {
      "codemirror_mode": {
        "name": "ipython",
        "version": 3
      },
      "file_extension": ".py",
      "mimetype": "text/x-python",
      "name": "python",
      "nbconvert_exporter": "python",
      "pygments_lexer": "ipython3",
      "version": "3.7.3"
    },
    "colab": {
      "name": "HM4.ipynb",
      "provenance": []
    },
    "accelerator": "GPU"
  },
  "cells": [
    {
      "cell_type": "markdown",
      "metadata": {
        "id": "VlSk8lcnN3g7"
      },
      "source": [
        "# Home 4: Build a CNN for image recognition.\n",
        "\n",
        "### Name: Asif Uddin\n"
      ]
    },
    {
      "cell_type": "markdown",
      "metadata": {
        "id": "nv_ARwdxN3g9"
      },
      "source": [
        "## 0. You will do the following:\n",
        "\n",
        "1. Read, complete, and run the code.\n",
        "\n",
        "2. **Make substantial improvements** to maximize the accurcy.\n",
        "    \n",
        "3. Convert the .IPYNB file to .HTML file.\n",
        "\n",
        "    * The HTML file must contain the code and the output after execution.\n",
        "    \n",
        "    * Missing **the output after execution** will not be graded.\n",
        "    \n",
        "4. Upload this .HTML file to your Google Drive, Dropbox, or Github repo. (If you submit the file to Google Drive or Dropbox, you must make the file \"open-access\". The delay caused by \"deny of access\" may result in late penalty.)\n",
        "\n",
        "4. Submit the link to this .HTML file to Canvas.\n",
        "\n",
        "    * Example: https://github.com/wangshusen/CS583-2020S/blob/master/homework/HM4/HM4.html\n",
        "\n",
        "\n",
        "## Requirements:\n",
        "\n",
        "1. You can use whatever CNN architecture, including VGG, Inception, and ResNet. However, you must build the networks layer by layer. You must NOT import the archetectures from ```keras.applications```.\n",
        "\n",
        "2. Make sure ```BatchNormalization``` is between a ```Conv```/```Dense``` layer and an ```activation``` layer.\n",
        "\n",
        "3. If you want to regularize a ```Conv```/```Dense``` layer, you should place a ```Dropout``` layer **before** the ```Conv```/```Dense``` layer.\n",
        "\n",
        "4. An accuracy above 70% is considered reasonable. An accuracy above 80% is considered good. Without data augmentation, achieving 80% accuracy is difficult.\n",
        "\n",
        "\n",
        "## Google Colab\n",
        "\n",
        "- If you do not have GPU, the training of a CNN can be slow. Google Colab is a good option.\n",
        "\n",
        "- Keep in mind that you must download it as an IPYNB file and then use IPython Notebook to convert it to HTML.\n",
        "\n",
        "- Also keep in mind that the IPYNB and HTML files must contain the outputs. (Otherwise, the instructor will not be able to know the correctness and performance.) Do the followings to keep the outputs.\n",
        "\n",
        "- In Colab, go to ```Runtime``` --> ```Change runtime type``` --> Do NOT check ```Omit code cell output when saving this notebook```. In this way, the downloaded IPYNB file contains the outputs."
      ]
    },
    {
      "cell_type": "markdown",
      "metadata": {
        "id": "rxQdwQCpN3g_"
      },
      "source": [
        "## 1. Data preparation"
      ]
    },
    {
      "cell_type": "markdown",
      "metadata": {
        "id": "DwfNvxOaN3g_"
      },
      "source": [
        "### 1.1. Load data\n"
      ]
    },
    {
      "cell_type": "code",
      "metadata": {
        "colab": {
          "base_uri": "https://localhost:8080/"
        },
        "id": "_HCM3XaEN3hA",
        "outputId": "8a57f16c-82f5-4d55-a316-5bc60c1dad41"
      },
      "source": [
        "from keras.datasets import cifar10\n",
        "import numpy\n",
        "\n",
        "(x_train, y_train), (x_test, y_test) = cifar10.load_data()\n",
        "\n",
        "print('shape of x_train: ' + str(x_train.shape))\n",
        "print('shape of y_train: ' + str(y_train.shape))\n",
        "print('shape of x_test: ' + str(x_test.shape))\n",
        "print('shape of y_test: ' + str(y_test.shape))\n",
        "print('number of classes: ' + str(numpy.max(y_train) - numpy.min(y_train) + 1))"
      ],
      "execution_count": 38,
      "outputs": [
        {
          "output_type": "stream",
          "text": [
            "shape of x_train: (50000, 32, 32, 3)\n",
            "shape of y_train: (50000, 1)\n",
            "shape of x_test: (10000, 32, 32, 3)\n",
            "shape of y_test: (10000, 1)\n",
            "number of classes: 10\n"
          ],
          "name": "stdout"
        }
      ]
    },
    {
      "cell_type": "code",
      "metadata": {
        "colab": {
          "base_uri": "https://localhost:8080/",
          "height": 35
        },
        "id": "NjWyGxlcsjkL",
        "outputId": "a49c0437-294c-4287-94f7-c8eccded30cc"
      },
      "source": [
        "import tensorflow as tf\n",
        "tf.test.gpu_device_name()"
      ],
      "execution_count": 3,
      "outputs": [
        {
          "output_type": "execute_result",
          "data": {
            "application/vnd.google.colaboratory.intrinsic+json": {
              "type": "string"
            },
            "text/plain": [
              "'/device:GPU:0'"
            ]
          },
          "metadata": {
            "tags": []
          },
          "execution_count": 3
        }
      ]
    },
    {
      "cell_type": "markdown",
      "metadata": {
        "id": "7TZCqqokN3hA"
      },
      "source": [
        "### 1.2. One-hot encode the labels\n",
        "\n",
        "In the input, a label is a scalar in $\\{0, 1, \\cdots , 9\\}$. One-hot encode transform such a scalar to a $10$-dim vector. E.g., a scalar ```y_train[j]=3``` is transformed to the vector ```y_train_vec[j]=[0, 0, 0, 1, 0, 0, 0, 0, 0, 0]```.\n",
        "\n",
        "1. Define a function ```to_one_hot``` that transforms an $n\\times 1$ array to a $n\\times 10$ matrix.\n",
        "\n",
        "2. Apply the function to ```y_train``` and ```y_test```."
      ]
    },
    {
      "cell_type": "code",
      "metadata": {
        "colab": {
          "base_uri": "https://localhost:8080/"
        },
        "id": "_gYp1l80N3hB",
        "outputId": "9757ded7-d6e0-4257-b4f0-8a72ff19bc3b"
      },
      "source": [
        "def to_one_hot(y, num_class=10):\n",
        "    b = numpy.zeros((y.size,num_class))\n",
        "    b[numpy.arange(y.size),y.reshape(y.size)] = 1\n",
        "    return b\n",
        "\n",
        "y_train_vec = to_one_hot(y_train)\n",
        "y_test_vec = to_one_hot(y_test)\n",
        "\n",
        "print('Shape of y_train_vec: ' + str(y_train_vec.shape))\n",
        "print('Shape of y_test_vec: ' + str(y_test_vec.shape))\n",
        "\n",
        "print(y_train[0])\n",
        "print(y_train_vec[0])"
      ],
      "execution_count": 5,
      "outputs": [
        {
          "output_type": "stream",
          "text": [
            "Shape of y_train_vec: (50000, 10)\n",
            "Shape of y_test_vec: (10000, 10)\n",
            "[6]\n",
            "[0. 0. 0. 0. 0. 0. 1. 0. 0. 0.]\n"
          ],
          "name": "stdout"
        }
      ]
    },
    {
      "cell_type": "markdown",
      "metadata": {
        "id": "EO4vSd7TN3hB"
      },
      "source": [
        "#### Remark: the outputs should be\n",
        "* Shape of y_train_vec: (50000, 10)\n",
        "* Shape of y_test_vec: (10000, 10)\n",
        "* [6]\n",
        "* [0. 0. 0. 0. 0. 0. 1. 0. 0. 0.]"
      ]
    },
    {
      "cell_type": "markdown",
      "metadata": {
        "id": "_kj928C-N3hC"
      },
      "source": [
        "### 1.3. Randomly partition the training set to training and validation sets\n",
        "\n",
        "Randomly partition the 50K training samples to 2 sets:\n",
        "* a training set containing 40K samples\n",
        "* a validation set containing 10K samples\n"
      ]
    },
    {
      "cell_type": "code",
      "metadata": {
        "colab": {
          "base_uri": "https://localhost:8080/"
        },
        "id": "CwszwOmnN3hD",
        "outputId": "58496734-f972-4fcb-c699-99e84abcaed7"
      },
      "source": [
        "rand_indices = numpy.random.permutation(50000)\n",
        "train_indices = rand_indices[0:40000]\n",
        "valid_indices = rand_indices[40000:50000]\n",
        "\n",
        "x_val = x_train[valid_indices, :]\n",
        "y_val = y_train_vec[valid_indices, :]\n",
        "\n",
        "x_tr = x_train[train_indices, :]\n",
        "y_tr = y_train_vec[train_indices, :]\n",
        "\n",
        "print('Shape of x_tr: ' + str(x_tr.shape))\n",
        "print('Shape of y_tr: ' + str(y_tr.shape))\n",
        "print('Shape of x_val: ' + str(x_val.shape))\n",
        "print('Shape of y_val: ' + str(y_val.shape))"
      ],
      "execution_count": 6,
      "outputs": [
        {
          "output_type": "stream",
          "text": [
            "Shape of x_tr: (40000, 32, 32, 3)\n",
            "Shape of y_tr: (40000, 10)\n",
            "Shape of x_val: (10000, 32, 32, 3)\n",
            "Shape of y_val: (10000, 10)\n"
          ],
          "name": "stdout"
        }
      ]
    },
    {
      "cell_type": "markdown",
      "metadata": {
        "id": "X7ht3agkN3hE"
      },
      "source": [
        "## 2. Build a CNN and tune its hyper-parameters\n",
        "\n",
        "1. Build a convolutional neural network model\n",
        "2. Use the validation data to tune the hyper-parameters (e.g., network structure, and optimization algorithm)\n",
        "    * Do NOT use test data for hyper-parameter tuning!!!\n",
        "3. Try to achieve a validation accuracy as high as possible."
      ]
    },
    {
      "cell_type": "markdown",
      "metadata": {
        "id": "oANtDogiN3hG"
      },
      "source": [
        "### Remark: \n",
        "\n",
        "The following CNN is just an example. You are supposed to make **substantial improvements** such as:\n",
        "* Add more layers.\n",
        "* Use regularizations, e.g., dropout.\n",
        "* Use batch normalization."
      ]
    },
    {
      "cell_type": "code",
      "metadata": {
        "colab": {
          "base_uri": "https://localhost:8080/"
        },
        "id": "xtTn3zUbN3hH",
        "outputId": "3982dc59-9c27-4dc3-e58f-5e5552d1f73f"
      },
      "source": [
        "from keras.layers import Input, Conv2D, MaxPooling2D,GlobalAveragePooling2D, Flatten, Dense, BatchNormalization, Dropout, Activation\n",
        "from keras.models import Sequential, Model\n",
        "from keras.applications import ResNet50\n",
        "from keras.preprocessing.image import ImageDataGenerator\n",
        "\n",
        "model = Sequential()\n",
        "model.add(Conv2D(32, (3, 3), activation='relu', kernel_initializer='he_uniform', padding='same', input_shape=(32, 32, 3)))\n",
        "model.add(BatchNormalization())\n",
        "model.add(Conv2D(32, (3, 3), activation='relu', kernel_initializer='he_uniform', padding='same'))\n",
        "model.add(BatchNormalization())\n",
        "model.add(MaxPooling2D((2, 2)))\n",
        "\n",
        "model.add(Conv2D(64, (3, 3), activation='relu', kernel_initializer='he_uniform', padding='same'))\n",
        "model.add(BatchNormalization())\n",
        "model.add(Conv2D(64, (3, 3), activation='relu', kernel_initializer='he_uniform', padding='same'))\n",
        "model.add(BatchNormalization())\n",
        "model.add(MaxPooling2D((2, 2)))\n",
        "\n",
        "model.add(Conv2D(128, (3, 3), activation='relu', kernel_initializer='he_uniform', padding='same'))\n",
        "model.add(BatchNormalization())\n",
        "model.add(Conv2D(128, (3, 3), activation='relu', kernel_initializer='he_uniform', padding='same'))\n",
        "model.add(BatchNormalization())\n",
        "model.add(MaxPooling2D((2, 2)))\n",
        "model.add(Flatten())\n",
        "model.add(Dropout(0.5))\n",
        "\n",
        "model.add(Dense(128, activation='relu', kernel_initializer='he_uniform'))\n",
        "model.add(BatchNormalization())\n",
        "model.add(Dense(10, activation='softmax'))\n",
        "model.summary()"
      ],
      "execution_count": 42,
      "outputs": [
        {
          "output_type": "stream",
          "text": [
            "Model: \"sequential_9\"\n",
            "_________________________________________________________________\n",
            "Layer (type)                 Output Shape              Param #   \n",
            "=================================================================\n",
            "conv2d_48 (Conv2D)           (None, 32, 32, 32)        896       \n",
            "_________________________________________________________________\n",
            "batch_normalization_56 (Batc (None, 32, 32, 32)        128       \n",
            "_________________________________________________________________\n",
            "conv2d_49 (Conv2D)           (None, 32, 32, 32)        9248      \n",
            "_________________________________________________________________\n",
            "batch_normalization_57 (Batc (None, 32, 32, 32)        128       \n",
            "_________________________________________________________________\n",
            "max_pooling2d_24 (MaxPooling (None, 16, 16, 32)        0         \n",
            "_________________________________________________________________\n",
            "conv2d_50 (Conv2D)           (None, 16, 16, 64)        18496     \n",
            "_________________________________________________________________\n",
            "batch_normalization_58 (Batc (None, 16, 16, 64)        256       \n",
            "_________________________________________________________________\n",
            "conv2d_51 (Conv2D)           (None, 16, 16, 64)        36928     \n",
            "_________________________________________________________________\n",
            "batch_normalization_59 (Batc (None, 16, 16, 64)        256       \n",
            "_________________________________________________________________\n",
            "max_pooling2d_25 (MaxPooling (None, 8, 8, 64)          0         \n",
            "_________________________________________________________________\n",
            "conv2d_52 (Conv2D)           (None, 8, 8, 128)         73856     \n",
            "_________________________________________________________________\n",
            "batch_normalization_60 (Batc (None, 8, 8, 128)         512       \n",
            "_________________________________________________________________\n",
            "conv2d_53 (Conv2D)           (None, 8, 8, 128)         147584    \n",
            "_________________________________________________________________\n",
            "batch_normalization_61 (Batc (None, 8, 8, 128)         512       \n",
            "_________________________________________________________________\n",
            "max_pooling2d_26 (MaxPooling (None, 4, 4, 128)         0         \n",
            "_________________________________________________________________\n",
            "flatten_9 (Flatten)          (None, 2048)              0         \n",
            "_________________________________________________________________\n",
            "dropout_12 (Dropout)         (None, 2048)              0         \n",
            "_________________________________________________________________\n",
            "dense_18 (Dense)             (None, 128)               262272    \n",
            "_________________________________________________________________\n",
            "batch_normalization_62 (Batc (None, 128)               512       \n",
            "_________________________________________________________________\n",
            "dense_19 (Dense)             (None, 10)                1290      \n",
            "=================================================================\n",
            "Total params: 552,874\n",
            "Trainable params: 551,722\n",
            "Non-trainable params: 1,152\n",
            "_________________________________________________________________\n"
          ],
          "name": "stdout"
        }
      ]
    },
    {
      "cell_type": "code",
      "metadata": {
        "id": "Bpo37DvAN3hH"
      },
      "source": [
        "from keras import optimizers\n",
        "\n",
        "learning_rate = 1E-3 # to be tuned!\n",
        "\n",
        "model.compile(loss='categorical_crossentropy',\n",
        "              optimizer=optimizers.RMSprop(lr=learning_rate),\n",
        "              metrics=['acc'])"
      ],
      "execution_count": 44,
      "outputs": []
    },
    {
      "cell_type": "code",
      "metadata": {
        "colab": {
          "base_uri": "https://localhost:8080/"
        },
        "id": "qGXT_RkPN3hI",
        "outputId": "8c136ac0-b2fb-4854-ad36-71a08cfeee6b"
      },
      "source": [
        "# Data Augmentation\n",
        "bs = 64\n",
        "datagen = ImageDataGenerator(\n",
        "    rotation_range=40,\n",
        "    width_shift_range=0.2, \n",
        "    height_shift_range=0.2,\n",
        "    shear_range=0.2,\n",
        "    zoom_range=0.2,\n",
        "    horizontal_flip=True)\n",
        "it_train = datagen.flow(x_tr, y_tr, batch_size=bs)\n",
        "steps = int(x_tr.shape[0] / bs)\n",
        "history = model.fit(it_train, steps_per_epoch=steps, epochs=25, validation_data=(x_val, y_val))"
      ],
      "execution_count": 45,
      "outputs": [
        {
          "output_type": "stream",
          "text": [
            "Epoch 1/25\n",
            "625/625 [==============================] - 26s 40ms/step - loss: 1.9286 - acc: 0.3255 - val_loss: 1.6037 - val_acc: 0.4488\n",
            "Epoch 2/25\n",
            "625/625 [==============================] - 24s 39ms/step - loss: 1.4216 - acc: 0.4861 - val_loss: 1.2320 - val_acc: 0.5606\n",
            "Epoch 3/25\n",
            "625/625 [==============================] - 24s 39ms/step - loss: 1.2383 - acc: 0.5545 - val_loss: 1.1430 - val_acc: 0.6076\n",
            "Epoch 4/25\n",
            "625/625 [==============================] - 24s 38ms/step - loss: 1.1481 - acc: 0.5936 - val_loss: 1.1140 - val_acc: 0.6270\n",
            "Epoch 5/25\n",
            "625/625 [==============================] - 24s 38ms/step - loss: 1.0650 - acc: 0.6191 - val_loss: 0.9612 - val_acc: 0.6584\n",
            "Epoch 6/25\n",
            "625/625 [==============================] - 24s 39ms/step - loss: 0.9996 - acc: 0.6482 - val_loss: 0.9924 - val_acc: 0.6746\n",
            "Epoch 7/25\n",
            "625/625 [==============================] - 24s 39ms/step - loss: 0.9585 - acc: 0.6629 - val_loss: 0.9130 - val_acc: 0.6921\n",
            "Epoch 8/25\n",
            "625/625 [==============================] - 24s 39ms/step - loss: 0.9136 - acc: 0.6815 - val_loss: 0.8501 - val_acc: 0.7170\n",
            "Epoch 9/25\n",
            "625/625 [==============================] - 24s 38ms/step - loss: 0.8859 - acc: 0.6961 - val_loss: 0.9070 - val_acc: 0.7028\n",
            "Epoch 10/25\n",
            "625/625 [==============================] - 24s 39ms/step - loss: 0.8452 - acc: 0.7040 - val_loss: 0.7745 - val_acc: 0.7373\n",
            "Epoch 11/25\n",
            "625/625 [==============================] - 24s 39ms/step - loss: 0.8312 - acc: 0.7098 - val_loss: 0.7925 - val_acc: 0.7356\n",
            "Epoch 12/25\n",
            "625/625 [==============================] - 24s 38ms/step - loss: 0.8061 - acc: 0.7209 - val_loss: 0.7655 - val_acc: 0.7429\n",
            "Epoch 13/25\n",
            "625/625 [==============================] - 24s 38ms/step - loss: 0.7918 - acc: 0.7281 - val_loss: 0.8564 - val_acc: 0.7155\n",
            "Epoch 14/25\n",
            "625/625 [==============================] - 24s 38ms/step - loss: 0.7760 - acc: 0.7302 - val_loss: 0.8327 - val_acc: 0.7337\n",
            "Epoch 15/25\n",
            "625/625 [==============================] - 24s 39ms/step - loss: 0.7548 - acc: 0.7376 - val_loss: 0.7776 - val_acc: 0.7492\n",
            "Epoch 16/25\n",
            "625/625 [==============================] - 24s 38ms/step - loss: 0.7451 - acc: 0.7409 - val_loss: 0.6880 - val_acc: 0.7659\n",
            "Epoch 17/25\n",
            "625/625 [==============================] - 24s 38ms/step - loss: 0.7272 - acc: 0.7485 - val_loss: 0.7588 - val_acc: 0.7509\n",
            "Epoch 18/25\n",
            "625/625 [==============================] - 24s 38ms/step - loss: 0.7088 - acc: 0.7553 - val_loss: 0.7265 - val_acc: 0.7664\n",
            "Epoch 19/25\n",
            "625/625 [==============================] - 24s 38ms/step - loss: 0.7006 - acc: 0.7579 - val_loss: 0.6708 - val_acc: 0.7761\n",
            "Epoch 20/25\n",
            "625/625 [==============================] - 24s 39ms/step - loss: 0.6931 - acc: 0.7596 - val_loss: 0.6284 - val_acc: 0.7856\n",
            "Epoch 21/25\n",
            "625/625 [==============================] - 24s 39ms/step - loss: 0.6760 - acc: 0.7673 - val_loss: 0.7001 - val_acc: 0.7664\n",
            "Epoch 22/25\n",
            "625/625 [==============================] - 24s 39ms/step - loss: 0.6728 - acc: 0.7687 - val_loss: 0.6204 - val_acc: 0.7852\n",
            "Epoch 23/25\n",
            "625/625 [==============================] - 24s 38ms/step - loss: 0.6734 - acc: 0.7689 - val_loss: 0.6919 - val_acc: 0.7779\n",
            "Epoch 24/25\n",
            "625/625 [==============================] - 24s 39ms/step - loss: 0.6600 - acc: 0.7707 - val_loss: 0.6764 - val_acc: 0.7783\n",
            "Epoch 25/25\n",
            "625/625 [==============================] - 24s 38ms/step - loss: 0.6573 - acc: 0.7710 - val_loss: 0.5964 - val_acc: 0.8018\n"
          ],
          "name": "stdout"
        }
      ]
    },
    {
      "cell_type": "code",
      "metadata": {
        "colab": {
          "base_uri": "https://localhost:8080/",
          "height": 297
        },
        "id": "hFw59U4KN3hI",
        "outputId": "d3d51729-f548-421a-8b03-120b92524bd8"
      },
      "source": [
        "import matplotlib.pyplot as plt\n",
        "%matplotlib inline\n",
        "\n",
        "acc = history.history['acc']\n",
        "val_acc = history.history['val_acc']\n",
        "\n",
        "epochs = range(len(acc))\n",
        "\n",
        "plt.plot(epochs, acc, 'bo', label='Training acc')\n",
        "plt.plot(epochs, val_acc, 'r', label='Validation acc')\n",
        "plt.xlabel('Epochs')\n",
        "plt.ylabel('Accuracy')\n",
        "plt.legend()"
      ],
      "execution_count": 46,
      "outputs": [
        {
          "output_type": "execute_result",
          "data": {
            "text/plain": [
              "<matplotlib.legend.Legend at 0x7f963c18ff90>"
            ]
          },
          "metadata": {
            "tags": []
          },
          "execution_count": 46
        },
        {
          "output_type": "display_data",
          "data": {
            "image/png": "[encoded data removed]",
            "text/plain": [
              "<Figure size 432x288 with 1 Axes>"
            ]
          },
          "metadata": {
            "tags": [],
            "needs_background": "light"
          }
        }
      ]
    },
    {
      "cell_type": "markdown",
      "metadata": {
        "id": "AE3CnofQN3hI"
      },
      "source": [
        "## 3. Train (again) and evaluate the model\n",
        "\n",
        "- To this end, you have found the \"best\" hyper-parameters. \n",
        "- Now, fix the hyper-parameters and train the network on the entire training set (all the 50K training samples)\n",
        "- Evaluate your model on the test set."
      ]
    },
    {
      "cell_type": "markdown",
      "metadata": {
        "id": "IynReEjJN3hJ"
      },
      "source": [
        "### 3.1. Train the model on the entire training set\n",
        "\n",
        "Why? Previously, you used 40K samples for training; you wasted 10K samples for the sake of hyper-parameter tuning. Now you already know the hyper-parameters, so why not using all the 50K samples for training?"
      ]
    },
    {
      "cell_type": "code",
      "metadata": {
        "id": "dr3ODwEGN3hK"
      },
      "source": [
        "# <Compile your model again (using the same hyper-parameters)>\n",
        "# ...\n",
        "from keras import optimizers\n",
        "\n",
        "learning_rate = 1E-3 # to be tuned!\n",
        "\n",
        "model.compile(loss='categorical_crossentropy',\n",
        "              optimizer=optimizers.RMSprop(lr=learning_rate),\n",
        "              metrics=['acc'])"
      ],
      "execution_count": 47,
      "outputs": []
    },
    {
      "cell_type": "code",
      "metadata": {
        "id": "UEkLG6SwN3hK",
        "colab": {
          "base_uri": "https://localhost:8080/"
        },
        "outputId": "077f1104-b242-457f-d34e-de1732150d75"
      },
      "source": [
        "# <Train your model on the entire training set (50K samples)>\n",
        "# <Use (x_train, y_train_vec) instead of (x_tr, y_tr)>\n",
        "# <Do NOT use the validation_data option (because now you do\n",
        "# ...\n",
        "bs = 64\n",
        "datagen = ImageDataGenerator(\n",
        "    rotation_range=40,\n",
        "    width_shift_range=0.2, \n",
        "    height_shift_range=0.2,\n",
        "    shear_range=0.2,\n",
        "    zoom_range=0.2,\n",
        "    horizontal_flip=True)\n",
        "it_train = datagen.flow(x_train, y_train_vec, batch_size=bs)\n",
        "history = model.fit(it_train, steps_per_epoch=x_train.shape[0]/bs, epochs=25)"
      ],
      "execution_count": 48,
      "outputs": [
        {
          "output_type": "stream",
          "text": [
            "Epoch 1/25\n",
            "781/781 [==============================] - 30s 37ms/step - loss: 0.6651 - acc: 0.7694\n",
            "Epoch 2/25\n",
            "781/781 [==============================] - 29s 37ms/step - loss: 0.6484 - acc: 0.7753\n",
            "Epoch 3/25\n",
            "781/781 [==============================] - 28s 36ms/step - loss: 0.6456 - acc: 0.7777\n",
            "Epoch 4/25\n",
            "781/781 [==============================] - 29s 37ms/step - loss: 0.6298 - acc: 0.7853\n",
            "Epoch 5/25\n",
            "781/781 [==============================] - 29s 37ms/step - loss: 0.6356 - acc: 0.7815\n",
            "Epoch 6/25\n",
            "781/781 [==============================] - 28s 36ms/step - loss: 0.6232 - acc: 0.7834\n",
            "Epoch 7/25\n",
            "781/781 [==============================] - 29s 37ms/step - loss: 0.6070 - acc: 0.7882\n",
            "Epoch 8/25\n",
            "781/781 [==============================] - 29s 37ms/step - loss: 0.5920 - acc: 0.7972\n",
            "Epoch 9/25\n",
            "781/781 [==============================] - 29s 37ms/step - loss: 0.5959 - acc: 0.7944\n",
            "Epoch 10/25\n",
            "781/781 [==============================] - 29s 37ms/step - loss: 0.5891 - acc: 0.7930\n",
            "Epoch 11/25\n",
            "781/781 [==============================] - 29s 37ms/step - loss: 0.5896 - acc: 0.7987\n",
            "Epoch 12/25\n",
            "781/781 [==============================] - 29s 37ms/step - loss: 0.5773 - acc: 0.8002\n",
            "Epoch 13/25\n",
            "781/781 [==============================] - 29s 37ms/step - loss: 0.5811 - acc: 0.8014\n",
            "Epoch 14/25\n",
            "781/781 [==============================] - 29s 37ms/step - loss: 0.5712 - acc: 0.8049\n",
            "Epoch 15/25\n",
            "781/781 [==============================] - 29s 37ms/step - loss: 0.5713 - acc: 0.8043\n",
            "Epoch 16/25\n",
            "781/781 [==============================] - 29s 37ms/step - loss: 0.5614 - acc: 0.8070\n",
            "Epoch 17/25\n",
            "781/781 [==============================] - 29s 37ms/step - loss: 0.5588 - acc: 0.8055\n",
            "Epoch 18/25\n",
            "781/781 [==============================] - 29s 36ms/step - loss: 0.5465 - acc: 0.8115\n",
            "Epoch 19/25\n",
            "781/781 [==============================] - 29s 37ms/step - loss: 0.5541 - acc: 0.8098\n",
            "Epoch 20/25\n",
            "781/781 [==============================] - 29s 37ms/step - loss: 0.5557 - acc: 0.8100\n",
            "Epoch 21/25\n",
            "781/781 [==============================] - 29s 38ms/step - loss: 0.5403 - acc: 0.8138\n",
            "Epoch 22/25\n",
            "781/781 [==============================] - 29s 37ms/step - loss: 0.5409 - acc: 0.8148\n",
            "Epoch 23/25\n",
            "781/781 [==============================] - 29s 37ms/step - loss: 0.5298 - acc: 0.8181\n",
            "Epoch 24/25\n",
            "781/781 [==============================] - 29s 37ms/step - loss: 0.5374 - acc: 0.8165\n",
            "Epoch 25/25\n",
            "781/781 [==============================] - 29s 37ms/step - loss: 0.5319 - acc: 0.8164\n"
          ],
          "name": "stdout"
        }
      ]
    },
    {
      "cell_type": "markdown",
      "metadata": {
        "id": "KFnDzBDWN3hL"
      },
      "source": [
        "### 3.2. Evaluate the model on the test set\n",
        "\n",
        "Do NOT used the test set until now. Make sure that your model parameters and hyper-parameters are independent of the test set."
      ]
    },
    {
      "cell_type": "code",
      "metadata": {
        "id": "jCGoiU9vN3hM",
        "colab": {
          "base_uri": "https://localhost:8080/"
        },
        "outputId": "b40f7336-8eb2-4209-b022-570080e33415"
      },
      "source": [
        "loss_and_acc = model.evaluate(x_test, y_test_vec)\n",
        "print('loss = ' + str(loss_and_acc[0]))\n",
        "print('accuracy = ' + str(loss_and_acc[1]))"
      ],
      "execution_count": 49,
      "outputs": [
        {
          "output_type": "stream",
          "text": [
            "313/313 [==============================] - 1s 4ms/step - loss: 0.5443 - acc: 0.8193\n",
            "loss = 0.5443256497383118\n",
            "accuracy = 0.8192999958992004\n"
          ],
          "name": "stdout"
        }
      ]
    }
  ]
}